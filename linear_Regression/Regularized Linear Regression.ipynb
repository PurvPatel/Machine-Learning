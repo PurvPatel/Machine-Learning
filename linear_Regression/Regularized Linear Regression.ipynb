{
 "cells": [
  {
   "cell_type": "markdown",
   "id": "4879bf78",
   "metadata": {},
   "source": [
    "# A Simple Implementation of Regularized Linear Regression\n",
    "This notebook goes over a implementation of Regularized Linear Regression in Python. The purpose of this notebook is to mainly break down how the linear regression algorithm/model works both through a bare bones implementation and visualization.\n",
    "\n",
    "First, let's define the key formulas we will need to implement for our model to function:\n",
    "### The Hypothesis Function\n",
    "This function will actually be used to predict our outputs ($y$) value based on a given set of inputs ($x$). In this case, our $h(x)$ is going to be a linear function of $n$ dimensional inputs; $\\{x_{1}, ..., x_{n}\\}$, along with $\\{\\theta_{0}, ..., \\theta_{n}\\}$ trainable parameters:\n",
    "\n",
    "$h_{\\theta}(x)  =  \\theta_{0} + \\theta_{1} * x_{1} + ... + \\theta_{n} * x_{n}  =  \\theta_{0} + \\sum_{i=1}^{n} \\theta_{i}x_{i}$\n",
    "\n",
    "### The Cost Function\n",
    "This function will be used to assess how well our model can predict the output based on the input $x$ for each labelled data point $\\{x, y\\}$. We will be using the mean squared error to calculate the cost of each prediction. The $m$ value is the number of training points. Both $x^{(i)}$ and $\\theta$ are vectors of size $n\\times1$. The second term is the regularization term. When the cost function is being optimized, it will aide in stopping the model from overfitting the training parameters onto the training set. $\\lambda$ will control how much weight we want to give the regularization term, this means if $\\lambda$ is set too large, the model might have a high bias and perform poorly. Note, $\\theta_{0}$ is not regularized.\n",
    "\n",
    "$J(\\theta)  =  \\frac{1}{2m} \\sum_{i=1}^{m} (h_{\\theta}(x^{(i)}) - y^{(i)})^{2} + \\frac{\\lambda}{2m}\\sum_{j=1}^{n} \\theta_{j}^{2}$\n",
    "\n",
    "### The Gradient Calculation Function\n",
    "The optimization of the cost function will be done with gradient descent. For this, the gradients of all the trainable parameters must be calculated, that is, the partial derivitives of $\\{\\frac{\\partial J(\\theta)}{\\partial \\theta_{0}}, ..., \\frac{\\partial J(\\theta)}{\\partial \\theta_{n}}\\}$. After calculating the partiel derivatives, the result should be:\n",
    "\n",
    "$\\frac{\\partial J(\\theta)}{\\partial \\theta_{0}}  =  \\frac{1}{m}  \\sum_{i=1}^{m} {(h_{\\theta}(x^{(i)}) - y^{(i)})}$\n",
    "\n",
    "$\\frac{\\partial J(\\theta)}{\\partial \\theta_{j}}  =  \\frac{1}{m}  \\sum_{i=1}^{m} {(h_{\\theta}(x^{(i)}) - y^{(i)}) x_{j} ^{i}  +  \\frac{\\lambda}{m} \\theta_{j}}   \\hspace{10mm} \\text{for} \\hspace{3mm}j = 1, ..., n$\n",
    "\n",
    "With these calulations, the gradient descent algorithm can be used to optimize the cost function and train the model. Here is a vectorized implementation of Regularized Linear Regression. The training set is decoupled from the actual regression trainer to make it easier to switch between batch, mini-batch, and stochastic gradient descent. Input data X is an m by n matrix and input label y is a m by 1 vector."
   ]
  },
  {
   "cell_type": "code",
   "execution_count": 1,
   "id": "a70ec77c",
   "metadata": {},
   "outputs": [],
   "source": [
    "import numpy as np\n",
    "\n",
    "class RegularizedLinearRegression:\n",
    "    def __init__(self, n=1, reg_lambda=0.01, learning_rate=0.001):\n",
    "        self.n = n\n",
    "        self.theta = np.zeros((n + 1, 1))\n",
    "        self.grad = np.zeros((n + 1, 1))\n",
    "        self.reg_lambda = reg_lambda\n",
    "        self.learning_rate = learning_rate\n",
    "        \n",
    "    def train(self, X, y, iterations=None):\n",
    "        \n",
    "        # get number of training examples and insert m by 1 bias vector\n",
    "        m = X.shape[0]\n",
    "        X = np.insert(X, [0], np.ones((m, 1)), axis=1)\n",
    "        \n",
    "        cost_hist = np.zeros(iterations)\n",
    "        \n",
    "        for i in range(iterations):\n",
    "            \n",
    "            # run batch gradient descent step and calculate cost of updated theta\n",
    "            self._gradient_descent_batch_step(X, y)\n",
    "            cost_hist[i] = self._cost_func(X, y)\n",
    "            \n",
    "        return cost_hist\n",
    "            \n",
    "    def _gradient_descent_batch_step(self, X, y):\n",
    "\n",
    "        # compute gradients\n",
    "        self.grad = self._compute_gradients(X, y)\n",
    "        \n",
    "        # update theta\n",
    "        self.theta = self.theta - self.learning_rate * self.grad\n",
    "        \n",
    "    def _hypothesis_func(self, X, theta=None):\n",
    "        if theta is None:\n",
    "            theta = self.theta\n",
    "            \n",
    "        # hypothesis function for prediction\n",
    "        return np.matmul(X, theta)\n",
    "    \n",
    "    def _cost_func(self, X, y, theta=None):\n",
    "        if theta is None:\n",
    "            theta = self.theta\n",
    "            \n",
    "        # mean squared error cost\n",
    "        m = X.shape[0]\n",
    "        return 1/(2 * m) * (np.sum(np.power(np.subtract(self._hypothesis_func(X, theta), y), 2))  +  self.reg_lambda * np.sum(np.power(theta[1:], 2)))\n",
    "        \n",
    "    def _compute_gradients(self, X, y):\n",
    "        m = X.shape[0]\n",
    "        grad = np.zeros((self.n + 1, 1))\n",
    "        \n",
    "        # calculate gradients of theta (calculated grad of theta_0 again to remove the regularization calculation from the vectoried cal.)\n",
    "        grad = (1/m) * np.transpose(np.matmul(np.transpose(np.sum(np.subtract(self._hypothesis_func(X), y), axis=1, keepdims=True)), X)) + (self.reg_lambda/m) * self.theta \n",
    "        grad[0] = (1/m) * np.sum(np.subtract(self._hypothesis_func(X), y))\n",
    "        \n",
    "        return grad"
   ]
  },
  {
   "cell_type": "markdown",
   "id": "20b0bd68",
   "metadata": {},
   "source": [
    "### Gradient Checking\n",
    "Now that gradient descent has been implementated, there needs to be some way to check that the gradient calculations are in fact accurate and there is no logic error present. To do this, gradient checking can be implemented. Gradient checking follows the basic principles of computing tangents of functions both through limits and derivatives and then comparing the two outputs to make sure they are consistent with one another.\n",
    "\n",
    "Here is a simple example with a polynomial function ($n=1$). \n",
    "\n",
    "Polynomial function\n",
    "\n",
    "$f(x) = x^2$\n",
    "\n",
    "Tangent (derivative) Calculation througn limits ($h$ being a small value; $h < 0.01$ )\n",
    "\n",
    "$f'(x) = \\frac{f(x + h) - f(x - h)}{2 * h}$\n",
    "\n",
    "Tangent (derivative) Calculation througn derivative\n",
    "\n",
    "$f'(x) = 2x$\n",
    "\n",
    "Now, sample random values of $x$, choose a small $h$ value, and compare the derivative outputs given by the two methods to confirm that both methods are working correctly. You should get similiar values from both methods.\n",
    "\n",
    "This concept can be applied to the cost function and gradients (derivatives of the cost function) of the linear regression model. The only slight change is that  the cost function contains more than one parameter; $\\{\\theta_{0}, ..., \\theta_{n}\\}$. To overcome this, change only one parameter at a time. $h$ will now be a (n + 1) by 1 vector of zeros, with only one element at a time having a slight deviation. Then, cycle through each element of $\\{\\theta_{0}, ..., \\theta_{n}\\}$ to calculate every gradient using the limit method. Below is a modified Regularized Linear Regression with gradient checking."
   ]
  },
  {
   "cell_type": "code",
   "execution_count": 2,
   "id": "1de894ce",
   "metadata": {},
   "outputs": [],
   "source": [
    "import numpy as np\n",
    "\n",
    "class RegularizedLinearRegression:\n",
    "    def __init__(self, n=1, reg_lambda=0.01, learning_rate=0.001):\n",
    "        self.n = n\n",
    "        self.theta = np.zeros((n + 1, 1))\n",
    "        self.grad = np.zeros((n + 1, 1))\n",
    "        self.reg_lambda = reg_lambda\n",
    "        self.learning_rate = learning_rate\n",
    "        \n",
    "    def train(self, X, y, iterations=None):\n",
    "        \n",
    "        # get number of training examples and insert m by 1 bias vector\n",
    "        m = X.shape[0]\n",
    "        X = np.insert(X, [0], np.ones((m, 1)), axis=1)\n",
    "        \n",
    "        cost_hist = np.zeros(iterations)\n",
    "        \n",
    "        for i in range(iterations):\n",
    "            \n",
    "            # run batch gradient descent step and calculate cost of updated theta\n",
    "            self._gradient_descent_batch_step(X, y)\n",
    "            cost_hist[i] = self._cost_func(X, y)\n",
    "            \n",
    "        return cost_hist\n",
    "    \n",
    "    def check_gradients(self, sample_size=10, epsilon=1e-3):\n",
    "        \n",
    "        # generate random samples\n",
    "        X_samples = np.random.rand(sample_size, self.n)\n",
    "        X_samples = np.insert(X_samples, [0], np.ones((X_samples.shape[0], 1)), axis=1)\n",
    "        y_samples = np.random.rand(sample_size, 1)\n",
    "        \n",
    "        #calculate gradients manually through limits and through the gradient equations\n",
    "        num_grad = self._compute_numerical_gradients(X_samples, y_samples, epsilon)\n",
    "        grad = self._compute_gradients(X_samples, y_samples)\n",
    "        \n",
    "        # calculate average error between the two gradients\n",
    "        average_error =  np.abs(num_grad - grad).mean()\n",
    "        \n",
    "        # return calculated gradients and the average error\n",
    "        return np.insert(grad, [0], num_grad, axis=1), average_error\n",
    "            \n",
    "    def _gradient_descent_batch_step(self, X, y):\n",
    "\n",
    "        # compute gradients\n",
    "        self.grad = self._compute_gradients(X, y)\n",
    "\n",
    "        # update theta\n",
    "        self.theta = self.theta - self.learning_rate * self.grad\n",
    "        \n",
    "    def _hypothesis_func(self, X, theta=None):\n",
    "        if theta is None:\n",
    "            theta = self.theta\n",
    "            \n",
    "        # hypothesis function for prediction\n",
    "        return np.matmul(X, theta)\n",
    "    \n",
    "    def _cost_func(self, X, y, theta=None):\n",
    "        if theta is None:\n",
    "            theta = self.theta\n",
    "            \n",
    "        # mean squared error cost\n",
    "        m = X.shape[0]\n",
    "        return 1/(2 * m) * (np.sum(np.power(np.subtract(self._hypothesis_func(X, theta), y), 2))  +  self.reg_lambda * np.sum(np.power(theta[1:], 2)))\n",
    "        \n",
    "    def _compute_gradients(self, X, y):\n",
    "        m = X.shape[0]\n",
    "        grad = np.zeros((self.n + 1, 1))\n",
    "        \n",
    "        # calculate gradients of theta (calculated grad of theta_0 again to remove the regularization calculation from the vectoried cal.)\n",
    "        grad = (1/m) * np.transpose(np.matmul(np.transpose(np.sum(np.subtract(self._hypothesis_func(X), y), axis=1, keepdims=True)), X)) + (self.reg_lambda/m) * self.theta \n",
    "        grad[0] = (1/m) * np.sum(np.subtract(self._hypothesis_func(X), y))\n",
    "        \n",
    "        return grad\n",
    "    \n",
    "    def _compute_numerical_gradients(self, X, y, epsilon):\n",
    "        \n",
    "        # declare gradient vector and perturbation vec; this vec contains slight deviations for one theta param at a time\n",
    "        num_grad = np.zeros((self.n + 1, 1))\n",
    "        perturbation_vec = np.zeros((self.n + 1, 1))\n",
    "        \n",
    "        # calculate numerical gradients using cost func\n",
    "        for i,_ in enumerate(self.theta):\n",
    "            perturbation_vec[i] = epsilon\n",
    "            cost_1 = self._cost_func(X, y, np.add(self.theta, perturbation_vec))\n",
    "            cost_2 = self._cost_func(X, y, np.subtract(self.theta, perturbation_vec))\n",
    "            num_grad[i] = (cost_1 - cost_2) / (2 * epsilon)\n",
    "            perturbation_vec[i] = 0\n",
    "            \n",
    "        return num_grad"
   ]
  },
  {
   "cell_type": "markdown",
   "id": "54d7ee10",
   "metadata": {},
   "source": [
    "Below is sample run with 50 random examples, each with 5 features. Notice how when even the y value is generated randomly, the cost goes down everytime, this is because our cost function is convex, meaning there is a global minimum for it to converage to. This sample run does not really give any meaningful insight into the functionality of linear regression, so I will demenstrate this algorithm on a real dataset next."
   ]
  },
  {
   "cell_type": "code",
   "execution_count": 3,
   "id": "b552801b",
   "metadata": {},
   "outputs": [],
   "source": [
    "n = 5\n",
    "m = 50\n",
    "X = np.random.rand(m, n)\n",
    "y = np.random.rand(m, 1)\n",
    "RLR = RegularizedLinearRegression(n=n)"
   ]
  },
  {
   "cell_type": "markdown",
   "id": "da3a1aaf",
   "metadata": {},
   "source": [
    "Before training, let's test that our gradients are functioning correctly using gradient checking with a sample size of 15."
   ]
  },
  {
   "cell_type": "code",
   "execution_count": 4,
   "id": "a2bb33f0",
   "metadata": {},
   "outputs": [
    {
     "name": "stdout",
     "output_type": "stream",
     "text": [
      "8.280413391995959e-15\n"
     ]
    }
   ],
   "source": [
    "_, average_error = RLR.check_gradients(15)\n",
    "print(average_error)"
   ]
  },
  {
   "cell_type": "markdown",
   "id": "f45fb523",
   "metadata": {},
   "source": [
    "Running it a few times tell me that linear regresssion is functioning correctly as the average error is pretty small; $< 10^{-13}$. Let's train the model now."
   ]
  },
  {
   "cell_type": "code",
   "execution_count": 5,
   "id": "9b2dbcb3",
   "metadata": {},
   "outputs": [],
   "source": [
    "iterations = 300\n",
    "cost_hist = RLR.train(X, y, iterations=iterations)"
   ]
  },
  {
   "cell_type": "markdown",
   "id": "b6c7aa4c",
   "metadata": {},
   "source": [
    "Let's plot our cost history next to see that the model was properly trained and is converging to some minimum. If the learning is too large, it might diverge, making the model useless for prediction. A downward sloping curve should be seen, since this was trained on random distributions with no real relations between the output and input, there will be no noticable drop in the beginning iterations."
   ]
  },
  {
   "cell_type": "code",
   "execution_count": 6,
   "id": "4851a968",
   "metadata": {},
   "outputs": [
    {
     "data": {
      "text/plain": [
       "Text(0.5, 1.0, 'Training Loss')"
      ]
     },
     "execution_count": 6,
     "metadata": {},
     "output_type": "execute_result"
    },
    {
     "data": {
      "image/png": "[encoded data removed]",
      "text/plain": [
       "<Figure size 432x288 with 1 Axes>"
      ]
     },
     "metadata": {
      "needs_background": "light"
     },
     "output_type": "display_data"
    }
   ],
   "source": [
    "import matplotlib.pyplot as plt\n",
    "\n",
    "plt.plot(np.arange(1, iterations + 1), cost_hist)\n",
    "plt.xlabel(\"iterations\")\n",
    "plt.ylabel(\"Cost\")\n",
    "plt.title(\"Training Loss\")"
   ]
  },
  {
   "cell_type": "markdown",
   "id": "d5d57f6d",
   "metadata": {},
   "source": [
    "Next, let's try out linear regression with an actual dataset that has some correlation with the input and output. I am going to use the california housing dataset provided by sklearn. I am also going to use pandas just to load the data and get a feel for how it looks and what it is made up of."
   ]
  },
  {
   "cell_type": "code",
   "execution_count": 7,
   "id": "d6e1f985",
   "metadata": {},
   "outputs": [],
   "source": [
    "from sklearn.datasets import fetch_california_housing"
   ]
  },
  {
   "cell_type": "code",
   "execution_count": 8,
   "id": "11fa84d0",
   "metadata": {},
   "outputs": [],
   "source": [
    "cali_housing = fetch_california_housing(as_frame=True)"
   ]
  },
  {
   "cell_type": "code",
   "execution_count": 9,
   "id": "03d83835",
   "metadata": {},
   "outputs": [
    {
     "name": "stdout",
     "output_type": "stream",
     "text": [
      "(20640, 8)\n"
     ]
    },
    {
     "data": {
      "text/html": [
       "<div>\n",
       "<style scoped>\n",
       "    .dataframe tbody tr th:only-of-type {\n",
       "        vertical-align: middle;\n",
       "    }\n",
       "\n",
       "    .dataframe tbody tr th {\n",
       "        vertical-align: top;\n",
       "    }\n",
       "\n",
       "    .dataframe thead th {\n",
       "        text-align: right;\n",
       "    }\n",
       "</style>\n",
       "<table border=\"1\" class=\"dataframe\">\n",
       "  <thead>\n",
       "    <tr style=\"text-align: right;\">\n",
       "      <th></th>\n",
       "      <th>MedInc</th>\n",
       "      <th>HouseAge</th>\n",
       "      <th>AveRooms</th>\n",
       "      <th>AveBedrms</th>\n",
       "      <th>Population</th>\n",
       "      <th>AveOccup</th>\n",
       "      <th>Latitude</th>\n",
       "      <th>Longitude</th>\n",
       "      <th>MedHouseVal</th>\n",
       "    </tr>\n",
       "  </thead>\n",
       "  <tbody>\n",
       "    <tr>\n",
       "      <th>0</th>\n",
       "      <td>8.3252</td>\n",
       "      <td>41.0</td>\n",
       "      <td>6.984127</td>\n",
       "      <td>1.023810</td>\n",
       "      <td>322.0</td>\n",
       "      <td>2.555556</td>\n",
       "      <td>37.88</td>\n",
       "      <td>-122.23</td>\n",
       "      <td>4.526</td>\n",
       "    </tr>\n",
       "    <tr>\n",
       "      <th>1</th>\n",
       "      <td>8.3014</td>\n",
       "      <td>21.0</td>\n",
       "      <td>6.238137</td>\n",
       "      <td>0.971880</td>\n",
       "      <td>2401.0</td>\n",
       "      <td>2.109842</td>\n",
       "      <td>37.86</td>\n",
       "      <td>-122.22</td>\n",
       "      <td>3.585</td>\n",
       "    </tr>\n",
       "    <tr>\n",
       "      <th>2</th>\n",
       "      <td>7.2574</td>\n",
       "      <td>52.0</td>\n",
       "      <td>8.288136</td>\n",
       "      <td>1.073446</td>\n",
       "      <td>496.0</td>\n",
       "      <td>2.802260</td>\n",
       "      <td>37.85</td>\n",
       "      <td>-122.24</td>\n",
       "      <td>3.521</td>\n",
       "    </tr>\n",
       "    <tr>\n",
       "      <th>3</th>\n",
       "      <td>5.6431</td>\n",
       "      <td>52.0</td>\n",
       "      <td>5.817352</td>\n",
       "      <td>1.073059</td>\n",
       "      <td>558.0</td>\n",
       "      <td>2.547945</td>\n",
       "      <td>37.85</td>\n",
       "      <td>-122.25</td>\n",
       "      <td>3.413</td>\n",
       "    </tr>\n",
       "    <tr>\n",
       "      <th>4</th>\n",
       "      <td>3.8462</td>\n",
       "      <td>52.0</td>\n",
       "      <td>6.281853</td>\n",
       "      <td>1.081081</td>\n",
       "      <td>565.0</td>\n",
       "      <td>2.181467</td>\n",
       "      <td>37.85</td>\n",
       "      <td>-122.25</td>\n",
       "      <td>3.422</td>\n",
       "    </tr>\n",
       "    <tr>\n",
       "      <th>5</th>\n",
       "      <td>4.0368</td>\n",
       "      <td>52.0</td>\n",
       "      <td>4.761658</td>\n",
       "      <td>1.103627</td>\n",
       "      <td>413.0</td>\n",
       "      <td>2.139896</td>\n",
       "      <td>37.85</td>\n",
       "      <td>-122.25</td>\n",
       "      <td>2.697</td>\n",
       "    </tr>\n",
       "    <tr>\n",
       "      <th>6</th>\n",
       "      <td>3.6591</td>\n",
       "      <td>52.0</td>\n",
       "      <td>4.931907</td>\n",
       "      <td>0.951362</td>\n",
       "      <td>1094.0</td>\n",
       "      <td>2.128405</td>\n",
       "      <td>37.84</td>\n",
       "      <td>-122.25</td>\n",
       "      <td>2.992</td>\n",
       "    </tr>\n",
       "    <tr>\n",
       "      <th>7</th>\n",
       "      <td>3.1200</td>\n",
       "      <td>52.0</td>\n",
       "      <td>4.797527</td>\n",
       "      <td>1.061824</td>\n",
       "      <td>1157.0</td>\n",
       "      <td>1.788253</td>\n",
       "      <td>37.84</td>\n",
       "      <td>-122.25</td>\n",
       "      <td>2.414</td>\n",
       "    </tr>\n",
       "    <tr>\n",
       "      <th>8</th>\n",
       "      <td>2.0804</td>\n",
       "      <td>42.0</td>\n",
       "      <td>4.294118</td>\n",
       "      <td>1.117647</td>\n",
       "      <td>1206.0</td>\n",
       "      <td>2.026891</td>\n",
       "      <td>37.84</td>\n",
       "      <td>-122.26</td>\n",
       "      <td>2.267</td>\n",
       "    </tr>\n",
       "    <tr>\n",
       "      <th>9</th>\n",
       "      <td>3.6912</td>\n",
       "      <td>52.0</td>\n",
       "      <td>4.970588</td>\n",
       "      <td>0.990196</td>\n",
       "      <td>1551.0</td>\n",
       "      <td>2.172269</td>\n",
       "      <td>37.84</td>\n",
       "      <td>-122.25</td>\n",
       "      <td>2.611</td>\n",
       "    </tr>\n",
       "  </tbody>\n",
       "</table>\n",
       "</div>"
      ],
      "text/plain": [
       "   MedInc  HouseAge  AveRooms  AveBedrms  Population  AveOccup  Latitude  \\\n",
       "0  8.3252      41.0  6.984127   1.023810       322.0  2.555556     37.88   \n",
       "1  8.3014      21.0  6.238137   0.971880      2401.0  2.109842     37.86   \n",
       "2  7.2574      52.0  8.288136   1.073446       496.0  2.802260     37.85   \n",
       "3  5.6431      52.0  5.817352   1.073059       558.0  2.547945     37.85   \n",
       "4  3.8462      52.0  6.281853   1.081081       565.0  2.181467     37.85   \n",
       "5  4.0368      52.0  4.761658   1.103627       413.0  2.139896     37.85   \n",
       "6  3.6591      52.0  4.931907   0.951362      1094.0  2.128405     37.84   \n",
       "7  3.1200      52.0  4.797527   1.061824      1157.0  1.788253     37.84   \n",
       "8  2.0804      42.0  4.294118   1.117647      1206.0  2.026891     37.84   \n",
       "9  3.6912      52.0  4.970588   0.990196      1551.0  2.172269     37.84   \n",
       "\n",
       "   Longitude  MedHouseVal  \n",
       "0    -122.23        4.526  \n",
       "1    -122.22        3.585  \n",
       "2    -122.24        3.521  \n",
       "3    -122.25        3.413  \n",
       "4    -122.25        3.422  \n",
       "5    -122.25        2.697  \n",
       "6    -122.25        2.992  \n",
       "7    -122.25        2.414  \n",
       "8    -122.26        2.267  \n",
       "9    -122.25        2.611  "
      ]
     },
     "execution_count": 9,
     "metadata": {},
     "output_type": "execute_result"
    }
   ],
   "source": [
    "print(cali_housing.data.shape)\n",
    "cali_housing.frame.head(n=10)"
   ]
  },
  {
   "cell_type": "markdown",
   "id": "48c3efc6",
   "metadata": {},
   "source": [
    "As seen above, there are 20640 samples present in total and it looks like we have 9 real value descriptions for each sample. It should also be noted that each sample contains data average over a city block. A normal business insight we could gleem from this data is can I predict the value of a house in california based on the features of the block it is located on? Well, let's see. I will first seperate the data into training, cross validation, and test sets so there is a way to measure the performance of a model. The target output value to predict will be the Median House Value. Let's fetch input and output as numpy arrays first."
   ]
  },
  {
   "cell_type": "code",
   "execution_count": 10,
   "id": "ba1715f5",
   "metadata": {},
   "outputs": [],
   "source": [
    "cali_housing_X, cali_housing_y = fetch_california_housing(return_X_y=True)"
   ]
  },
  {
   "cell_type": "code",
   "execution_count": 11,
   "id": "393296d9",
   "metadata": {},
   "outputs": [
    {
     "name": "stdout",
     "output_type": "stream",
     "text": [
      "X Input Vector Shape:  (20640, 8)\n",
      "y Output Vector Shape: (20640,)\n"
     ]
    }
   ],
   "source": [
    "print(\"X Input Vector Shape:  {}\".format(cali_housing_X.shape))\n",
    "print(\"y Output Vector Shape: {}\".format(cali_housing_y.shape))"
   ]
  },
  {
   "cell_type": "markdown",
   "id": "1175549d",
   "metadata": {},
   "source": [
    "Notice how the y output vector does not explicity state the second parameter of its shape. This is a rank 1 numpy array and it can lead to weird results during matrix calculations. Let's reshape that into a 20640 by 1 vector."
   ]
  },
  {
   "cell_type": "code",
   "execution_count": 12,
   "id": "e0a63f58",
   "metadata": {},
   "outputs": [
    {
     "name": "stdout",
     "output_type": "stream",
     "text": [
      "y Output Vector Shape: (20640, 1)\n"
     ]
    }
   ],
   "source": [
    "cali_housing_y = np.reshape(cali_housing_y, (20640, 1))\n",
    "print(\"y Output Vector Shape: {}\".format(cali_housing_y.shape))"
   ]
  },
  {
   "cell_type": "code",
   "execution_count": 13,
   "id": "7503450a",
   "metadata": {},
   "outputs": [],
   "source": [
    "# let's shuffle our data first to have a uniform spread among all three subsets\n",
    "perm = np.random.permutation(cali_housing_X.shape[0])\n",
    "\n",
    "X_shuffled = cali_housing_X[perm]\n",
    "y_shuffled = cali_housing_y[perm]"
   ]
  },
  {
   "cell_type": "code",
   "execution_count": 14,
   "id": "fe7f9b24",
   "metadata": {},
   "outputs": [],
   "source": [
    "# going for 7:1:2 ratio between train:val:test\n",
    "total_size = cali_housing_X.shape[0]\n",
    "train_ind = int(total_size * 0.7)\n",
    "val_ind = train_ind + int(total_size * 0.1)\n",
    "\n",
    "X_train, y_train = X_shuffled[0:train_ind], y_shuffled[0:train_ind] \n",
    "X_val, y_val = X_shuffled[train_ind:val_ind], y_shuffled[train_ind:val_ind]\n",
    "X_test, y_test = X_shuffled[val_ind:], y_shuffled[val_ind:]"
   ]
  },
  {
   "cell_type": "code",
   "execution_count": 15,
   "id": "53bae11c",
   "metadata": {},
   "outputs": [
    {
     "name": "stdout",
     "output_type": "stream",
     "text": [
      "Training set size:   X = (14447, 8), y = (14447, 1)\n",
      "Validation set size: X = (2064, 8), y = (2064, 1)\n",
      "Testing set size:    X = (4129, 8), y = (4129, 1)\n"
     ]
    }
   ],
   "source": [
    "print(\"Training set size:   X = {}, y = {}\".format(X_train.shape, y_train.shape))\n",
    "print(\"Validation set size: X = {}, y = {}\".format(X_val.shape, y_val.shape))\n",
    "print(\"Testing set size:    X = {}, y = {}\".format(X_test.shape, y_test.shape))"
   ]
  },
  {
   "cell_type": "markdown",
   "id": "81407d69",
   "metadata": {},
   "source": [
    "Linear Regression has to also be updated to track both the training and validation loss over each iteration. Here is the updated code below."
   ]
  },
  {
   "cell_type": "code",
   "execution_count": 16,
   "id": "6b2faad4",
   "metadata": {},
   "outputs": [],
   "source": [
    "import numpy as np\n",
    "\n",
    "class RegularizedLinearRegression:\n",
    "    def __init__(self, n=1, reg_lambda=0.01, learning_rate=0.001):\n",
    "        self.n = n\n",
    "        self.theta = np.zeros((n + 1, 1))\n",
    "        self.grad = np.zeros((n + 1, 1))\n",
    "        self.reg_lambda = reg_lambda\n",
    "        self.learning_rate = learning_rate\n",
    "        \n",
    "    def train(self, X, y, iterations, X_val=None, y_val=None):\n",
    "        \n",
    "        # get number of training examples and insert m by 1 bias vector\n",
    "        m = X.shape[0]\n",
    "        X = np.insert(X, [0], np.ones((m, 1)), axis=1)\n",
    "        \n",
    "        training_cost_hist = np.zeros(iterations)\n",
    "        \n",
    "        if X_val is not None and y_val is not None:\n",
    "            validation_cost_hist = np.zeros(iterations)\n",
    "            X_val = np.insert(X_val, [0], np.ones((X_val.shape[0], 1)), axis=1)\n",
    "            val = True\n",
    "        else:\n",
    "            val=False\n",
    "        \n",
    "        for i in range(iterations):\n",
    "            \n",
    "            # run batch gradient descent step and calculate cost of updated theta\n",
    "            self._gradient_descent_batch_step(X, y)\n",
    "            training_cost_hist[i] = self._cost_func(X, y)\n",
    "            \n",
    "            if val is not None:\n",
    "                validation_cost_hist[i] = self._cost_func(X_val, y_val)\n",
    "            \n",
    "        if val is not None:\n",
    "            return training_cost_hist, validation_cost_hist\n",
    "        return training_cost_hist\n",
    "    \n",
    "    def test(self, X_test, y_test):\n",
    "        X_test = np.insert(X_test, [0], np.ones((X_test.shape[0], 1)), axis=1)\n",
    "        return self._cost_func(X_test, y_test)\n",
    "    \n",
    "    def predict(self, X):\n",
    "        X = np.insert(X, [0], np.ones((X.shape[0], 1)), axis=1)\n",
    "        return self._hypothesis_func(X)\n",
    "    \n",
    "    def check_gradients(self, sample_size=10, epsilon=1e-3):\n",
    "        \n",
    "        # generate random samples\n",
    "        X_samples = np.random.rand(sample_size, self.n)\n",
    "        X_samples = np.insert(X_samples, [0], np.ones((X_samples.shape[0], 1)), axis=1)\n",
    "        y_samples = np.random.rand(sample_size, 1)\n",
    "        \n",
    "        #calculate gradients manually through limits and through the gradient equations\n",
    "        num_grad = self._compute_numerical_gradients(X_samples, y_samples, epsilon)\n",
    "        grad = self._compute_gradients(X_samples, y_samples)\n",
    "        \n",
    "        # calculate average error between the two gradients\n",
    "        average_error =  np.abs(num_grad - grad).mean()\n",
    "        \n",
    "        # return calculated gradients and the average error\n",
    "        return np.insert(grad, [0], num_grad, axis=1), average_error\n",
    "            \n",
    "    def _gradient_descent_batch_step(self, X, y):\n",
    "\n",
    "        # compute gradients\n",
    "        self.grad = self._compute_gradients(X, y)\n",
    "        \n",
    "        # update theta\n",
    "        self.theta = self.theta - self.learning_rate * self.grad\n",
    "        \n",
    "    def _hypothesis_func(self, X, theta=None):\n",
    "        if theta is None:\n",
    "            theta = self.theta\n",
    "            \n",
    "        # hypothesis function for prediction\n",
    "        return np.matmul(X, theta)\n",
    "    \n",
    "    def _cost_func(self, X, y, theta=None):\n",
    "        if theta is None:\n",
    "            theta = self.theta\n",
    "            \n",
    "        # mean squared error cost\n",
    "        m = X.shape[0]\n",
    "        return 1/(2 * m) * (np.sum(np.power(np.subtract(self._hypothesis_func(X, theta), y), 2))  +  self.reg_lambda * np.sum(np.power(theta[1:], 2)))\n",
    "        \n",
    "    def _compute_gradients(self, X, y):\n",
    "        m = X.shape[0]\n",
    "        grad = np.zeros((self.n + 1, 1))\n",
    "        \n",
    "        # calculate gradients of theta (calculated grad of theta_0 again to remove the regularization calculation from the vectoried cal.)\n",
    "        grad = (1/m) * np.transpose(np.matmul(np.transpose(np.sum(np.subtract(self._hypothesis_func(X), y), axis=1, keepdims=True)), X)) + (self.reg_lambda/m) * self.theta \n",
    "        grad[0] = (1/m) * np.sum(np.subtract(self._hypothesis_func(X), y))\n",
    "        return grad\n",
    "    \n",
    "    def _compute_numerical_gradients(self, X, y, epsilon):\n",
    "        \n",
    "        # declare gradient vector and perturbation vec; this vec contains slight deviations for one theta param at a time\n",
    "        num_grad = np.zeros((self.n + 1, 1))\n",
    "        perturbation_vec = np.zeros((self.n + 1, 1))\n",
    "        \n",
    "        # calculate numerical gradients using cost func\n",
    "        for i,_ in enumerate(self.theta):\n",
    "            perturbation_vec[i] = epsilon\n",
    "            cost_1 = self._cost_func(X, y, np.add(self.theta, perturbation_vec))\n",
    "            cost_2 = self._cost_func(X, y, np.subtract(self.theta, perturbation_vec))\n",
    "            num_grad[i] = (cost_1 - cost_2) / (2 * epsilon)\n",
    "            perturbation_vec[i] = 0\n",
    "            \n",
    "        return num_grad"
   ]
  },
  {
   "cell_type": "markdown",
   "id": "a6dfc3fd",
   "metadata": {},
   "source": [
    "For the first model being trained, I am not going to normalize the features. This means that I am not going to make sure all the features are in the same \\[-1, 1\\] range so the model might give preference to training parameters assciated with larger feature values since opitmizing them might give a much better cost. I had to severely reduce the learning rate to keep the gradients from diverging due to this."
   ]
  },
  {
   "cell_type": "code",
   "execution_count": 17,
   "id": "989fe668",
   "metadata": {},
   "outputs": [
    {
     "name": "stdout",
     "output_type": "stream",
     "text": [
      "Average test error of the model is: 0.6230769452935206\n"
     ]
    },
    {
     "data": {
      "image/png": "[encoded data removed]",
      "text/plain": [
       "<Figure size 432x288 with 1 Axes>"
      ]
     },
     "metadata": {
      "needs_background": "light"
     },
     "output_type": "display_data"
    }
   ],
   "source": [
    "def model_train(X_train, y_train, X_val, y_val, X_test, y_test, iterations, reg_lambda=0.01, learning_rate=1e-3):\n",
    "    n = X_train.shape[1]\n",
    "    \n",
    "    predictor = RegularizedLinearRegression(n=n, reg_lambda=reg_lambda, learning_rate=learning_rate)\n",
    "    \n",
    "    train_cost_hist, val_cost_hist = predictor.train(X_train, y_train, iterations, X_val, y_val)\n",
    "    test_loss = predictor.test(X_test, y_test)\n",
    "\n",
    "    plt.plot(np.arange(1, iterations + 1), train_cost_hist, label=\"training_loss\")\n",
    "    plt.plot(np.arange(1, iterations + 1), val_cost_hist, label=\"validation_loss\")\n",
    "    plt.axhline(y=test_loss, label=\"test_loss\")\n",
    "    plt.legend()\n",
    "    plt.xlabel(\"iterations\")\n",
    "    plt.ylabel(\"Cost\")\n",
    "    plt.title(\"Loss\")\n",
    "    \n",
    "    return test_loss\n",
    "\n",
    "test_error = model_train(X_train, y_train, X_val, y_val, X_test, y_test, iterations=100000, learning_rate=1e-7)\n",
    "print(\"Average test error of the model is: {}\".format(test_error))"
   ]
  },
  {
   "cell_type": "markdown",
   "id": "a770d8ef",
   "metadata": {},
   "source": [
    "Above is a sample training loop with 100000 iterations. I've tried it with iterations={200, 500, 1000, 10000, 100000} and reshuffled the data a couple of times along with varying the hyperparameters. Each time, the test error is actually relatively low on the graph. This might be due to the fact that train, test, and val sets are very similiar, because this is pretty odd to see. Anyways, the optimial low error is around 0.62-0.65 which is not that great considering the y range is (0 - 5). All these target house values are also in $10^{5}$ dollars with a lot of them being $< 10^{4}$, meaning our squared means error is pretty high realistically. There might also be problems with the hand implementation of Linear Regression; I was not taking things such as numerical computation into account when implementing it (defining proper data types and so forth). This is mainly a demo, so I will not be delving into that here though. I will normalize the features and retrain the model to see how it performs next."
   ]
  },
  {
   "cell_type": "code",
   "execution_count": 18,
   "id": "4df16b82",
   "metadata": {},
   "outputs": [],
   "source": [
    "# get means and standard deviations of all training features\n",
    "X_train_norm_params = np.insert(np.std(X_train, axis=0, keepdims=True), [0], np.mean(X_train, axis=0, keepdims=True), axis=0)\n",
    "\n",
    "# standardize features\n",
    "X_train_norm = (X_train - X_train_norm_params[0]) / X_train_norm_params[1]\n",
    "X_val_norm = (X_val - X_train_norm_params[0]) / X_train_norm_params[1]\n",
    "X_test_norm = (X_test - X_train_norm_params[0]) / X_train_norm_params[1]"
   ]
  },
  {
   "cell_type": "code",
   "execution_count": 19,
   "id": "3ffa5768",
   "metadata": {},
   "outputs": [
    {
     "name": "stdout",
     "output_type": "stream",
     "text": [
      "Average test error of the model is: 0.2601180561589532\n"
     ]
    },
    {
     "data": {
      "image/png": "[encoded data removed]",
      "text/plain": [
       "<Figure size 432x288 with 1 Axes>"
      ]
     },
     "metadata": {
      "needs_background": "light"
     },
     "output_type": "display_data"
    }
   ],
   "source": [
    "test_error = model_train(X_train_norm, y_train, X_val_norm, y_val, X_test_norm, y_test, iterations=10000)\n",
    "print(\"Average test error of the model is: {}\".format(test_error))"
   ]
  },
  {
   "cell_type": "markdown",
   "id": "6a5df761",
   "metadata": {},
   "source": [
    "As seen above, the RLR model performs much better in this case when the input features are normalized. This makes sense since the population feature has much larger values than the others even though its impact should not be that much greater than income. The validation loss also starts to slip below training loss which is going into unknown territory, maybe the validation set in general contains easier samples than the training set. The general trend between training loss and validation loss looks fine (no sudden spikes in validation loss due to overfitting). The overall dataset most likely contains very similiar data samples; some city blocks in calfifornia likely have identical relations between house prices and things such as population and income which makes sense logically. I would try to use a clustering algorithm like K-means to check the dataset breakdown if I wanted to get to the bottom of this (whether its just the dataset or there is a weird bug in my code). However, this is the end of linear regression (not going to delve into other topics, just doing this to brush up/practice on my math/code skills)."
   ]
  }
 ],
 "metadata": {
  "kernelspec": {
   "display_name": "Python 3 (ipykernel)",
   "language": "python",
   "name": "python3"
  },
  "language_info": {
   "codemirror_mode": {
    "name": "ipython",
    "version": 3
   },
   "file_extension": ".py",
   "mimetype": "text/x-python",
   "name": "python",
   "nbconvert_exporter": "python",
   "pygments_lexer": "ipython3",
   "version": "3.9.0"
  }
 },
 "nbformat": 4,
 "nbformat_minor": 5
}
